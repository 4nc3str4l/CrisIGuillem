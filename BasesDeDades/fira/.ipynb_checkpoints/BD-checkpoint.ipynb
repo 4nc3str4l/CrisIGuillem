{
 "cells": [
  {
   "cell_type": "code",
   "execution_count": 2,
   "metadata": {
    "collapsed": false
   },
   "outputs": [],
   "source": [
    "from random import randint, shuffle, seed\n",
    "\n",
    "def DNI():\n",
    "    dni = \"\"\n",
    "    \n",
    "    for i in range(1,8):\n",
    "        dni += str(randint(0, 9))\n",
    "\n",
    "    NIF='TRWAGMYFPDXBNJZSQVHLCKE'.lower()\n",
    "    dni += str(NIF[int(dni)%23])\n",
    "\n",
    "    return dni\n",
    "\n",
    "def NIF(tipus):\n",
    "    def s(n):\n",
    "        mul = n * 2\n",
    "        if mul >= 10:\n",
    "            smul = str(mul)\n",
    "            return int(smul[0]) + int(smul[1])\n",
    "        \n",
    "        return mul\n",
    "        \n",
    "    nif = \"\"\n",
    "    \n",
    "    for i in range(1, 8):\n",
    "        nif += str(randint(0, 9))\n",
    "        \n",
    "    pars = int(nif[1]) + int(nif[3]) + int(nif[5])\n",
    "    senars = s(int(nif[0])) + s(int(nif[2])) + s(int(nif[4])) + s(int(nif[6]))\n",
    "    total = pars + senars\n",
    "    \n",
    "    digit = str(total)[-1]\n",
    "    if digit == \"0\":\n",
    "        control = 0\n",
    "    else:\n",
    "        control = 10 - int(digit)\n",
    "        \n",
    "    return tipus + '-' + nif + str(control)"
   ]
  },
  {
   "cell_type": "code",
   "execution_count": 3,
   "metadata": {
    "collapsed": false
   },
   "outputs": [
    {
     "data": {
      "text/plain": [
       "'A-07413123'"
      ]
     },
     "execution_count": 3,
     "metadata": {},
     "output_type": "execute_result"
    }
   ],
   "source": [
    "NIF('A')"
   ]
  },
  {
   "cell_type": "code",
   "execution_count": 4,
   "metadata": {
    "collapsed": false
   },
   "outputs": [],
   "source": [
    "import unicodedata\n",
    "\n",
    "def remove_accents(s):\n",
    "    s = unicode(s, errors='replace')\n",
    "    return unicodedata.normalize('NFD', s).encode('ascii', 'ignore')\n",
    "\n",
    "with open('noms.txt') as f:\n",
    "    noms = f.readlines()\n",
    "    \n",
    "    def nom():\n",
    "        n = \"\"\n",
    "        while n == \"\":\n",
    "            n = remove_accents(noms[randint(0,len(noms))].strip()).title()\n",
    "        return n\n",
    "    \n",
    "with open('cognoms.txt') as f:\n",
    "    cognoms = f.readlines()\n",
    "    \n",
    "    def cognom():\n",
    "        n = \"\"\n",
    "        while n == \"\":\n",
    "            n = remove_accents(cognoms[randint(0,len(cognoms))].strip()).title()\n",
    "        return n\n",
    "    \n",
    "def tel():\n",
    "    return str(randint(100000000,999999999))"
   ]
  },
  {
   "cell_type": "code",
   "execution_count": 5,
   "metadata": {
    "collapsed": false
   },
   "outputs": [
    {
     "name": "stdout",
     "output_type": "stream",
     "text": [
      "Maria Huamani 100010509 7581129f\n"
     ]
    }
   ],
   "source": [
    "print nom() + ' ' + cognom(), tel(), DNI()"
   ]
  },
  {
   "cell_type": "code",
   "execution_count": 25,
   "metadata": {
    "collapsed": false
   },
   "outputs": [],
   "source": [
    "from datetime import datetime\n",
    "\n",
    "def rdate():\n",
    "    year = randint(2001, 2014)\n",
    "    month = randint(1, 10)\n",
    "    day = randint(1, 28)\n",
    "    \n",
    "    d = randint(1, 2)\n",
    "    \n",
    "    return [str(year) + \"/\" + str(month) + \"/\" + str(day), \\\n",
    "            str(year) + \"/\" + str(month + d) + \"/\" + str(day),\\\n",
    "           [year, month, day], \\\n",
    "           [year, month + d, day] \\\n",
    "            ]\n",
    "\n",
    "def incYear(date, n):\n",
    "    year = date[0]\n",
    "    month = date[1]\n",
    "    day = date[2]\n",
    "    \n",
    "    d = randint(1, 2)\n",
    "    \n",
    "    return [str(year + n) + \"/\" + str(month) + \"/\" + str(day), \\\n",
    "            str(year + n) + \"/\" + str(month + d) + \"/\" + str(day),\\\n",
    "           [year + n, month, day], \\\n",
    "           [year + n, month + d, day] \\\n",
    "            ]\n",
    "\n",
    "\n",
    "def incRandom(d):\n",
    "    n = randint(1, 29)\n",
    "    while n > 0:\n",
    "        d = incDate(d)\n",
    "        n-=1\n",
    "    return str(d[0]) + \"/\" + str(d[1]) + \"/\" + str(d[2])\n",
    "        \n",
    "def incDate(d):\n",
    "    d[2] += 1\n",
    "    if d[2] >= 28:\n",
    "        d[2] = 1\n",
    "        d[1] += 1\n",
    "        \n",
    "    if d[1] > 12:\n",
    "        d[1] = 1\n",
    "        d[0] += 1\n",
    "    \n",
    "    return d"
   ]
  },
  {
   "cell_type": "code",
   "execution_count": 26,
   "metadata": {
    "collapsed": false
   },
   "outputs": [],
   "source": [
    "numEmpreses = 4\n",
    "treballadors =  [0] * numEmpreses\n",
    "comercials = [[] for i in range(0, numEmpreses)]\n",
    "visitants_atesos = [{} for i in range(0, numEmpreses)]\n",
    "empreses = [\"\" for i in range(0, numEmpreses)]\n",
    "visitants = []\n",
    "\n",
    "numUbicacions = 4\n",
    "numEsdeveniments = 2\n",
    "\n",
    "numEdicions = 4\n",
    "esdevenimentPeriode = [0] * numEmpreses\n",
    "edicions = [[] for i in range(0, numEsdeveniments)]\n",
    "datesEdicions = [[] for i in range(0, numEsdeveniments)]\n",
    "\n",
    "numEstands = 10\n",
    "\n",
    "estands = [\"\"] * numEstands\n",
    "estandsEdicio = [[[] for i in range(0, numEdicions)] for k in range(0, numEsdeveniments)]\n",
    "ubicacions = [[[] for i in range(0, numEdicions)] for k in range(0, numEsdeveniments)]\n",
    "\n",
    "ambEntrada =  [[[] for i in range(0, numEdicions)] for k in range(0, numEsdeveniments)]\n",
    "\n",
    "seed(127459789L)\n",
    "\n",
    "with open(\"empresa/insert.sql\", \"w\") as f:\n",
    "    f.write(\"\\echo ---------- insert empresa\\n\")\n",
    "    f.write(\"INSERT INTO empresa VALUES \")\n",
    "        \n",
    "    for i in range(0, numEmpreses):\n",
    "        empreses[i] = NIF('B')\n",
    "        f.write(\"('\" + empreses[i] + \"', 'Empresa \" + str(i + 1) + \" s.l.')\" + \\\n",
    "                (\",\" if i != numEmpreses - 1 else \";\") + \"\\n\")\n",
    "        \n",
    "with open(\"persona/insert.sql\", \"w\") as f:\n",
    "    with open(\"comercial/insert.sql\", \"w\") as fc:\n",
    "        f.write(\"\\echo ---------- insert persona\\n\")\n",
    "        f.write(\"INSERT INTO persona VALUES \")\n",
    "        \n",
    "        fc.write(\"\\echo ---------- insert comercial\\n\")\n",
    "        fc.write(\"INSERT INTO comercial VALUES \")\n",
    "\n",
    "        aux = 0\n",
    "        \n",
    "        for i in range(1, 100):\n",
    "            try:\n",
    "                d = DNI()\n",
    "                f.write(\"('\" + d + \"', '\" + nom() + \" \" + cognom() + \"', '\" + tel() + \"')\" + \\\n",
    "                        (\",\" if i != 99 else \";\") + \"\\n\")\n",
    "\n",
    "                if any(treballadors) != 5 and randint(1,9) % 3 == 0:\n",
    "                    e = randint(0, numEmpreses - 1)\n",
    "                    while treballadors[e] == 5:\n",
    "                        e = randint(1, numEmpreses)\n",
    "                    \n",
    "                    treballadors[e] += 1\n",
    "                    comercials[e].append(d)\n",
    "                    \n",
    "                    atesos = randint(0, 13)\n",
    "                    visitants_atesos[e][d] = atesos\n",
    "                    \n",
    "                    fc.write((\"\" if aux == 0 else \",\\n\") + \"('\" + d + \"', \" + str(atesos) + \", '\" + empreses[e] + \"')\")\n",
    "                    aux += 1\n",
    "                else:\n",
    "                    visitants.append(d)\n",
    "                \n",
    "            except:\n",
    "                pass\n",
    "            \n",
    "        fc.write(\";\")\n",
    "        \n",
    "with open(\"ubicacio/insert.sql\", \"w\") as f:\n",
    "    f.write(\"\\echo ---------- insert ubicacio\\n\")\n",
    "    f.write(\"INSERT INTO ubicacio VALUES \")\n",
    "    \n",
    "    for i in range(1, numUbicacions + 1):\n",
    "        f.write(\"('Ubicacio \" + str(i) + \"', 'Fira Montjuic Edifici \" + str(i) + \"')\" + \\\n",
    "                (\",\" if i != numUbicacions else \";\") + \"\\n\")\n",
    "        \n",
    "with open(\"esdeveniment/insert.sql\", \"w\") as f:\n",
    "    f.write(\"\\echo ---------- insert esdeveniments\\n\")\n",
    "    f.write(\"INSERT INTO esdeveniment VALUES \")\n",
    "    \n",
    "    for i in range(1, numEsdeveniments + 1):\n",
    "        esdevenimentPeriode[i - 1] = ('anual' if i % 2 == 0 else 'bianual')\n",
    "        f.write(\"('Esdeveniment \" + str(i) + \"', '\" + esdevenimentPeriode[i - 1] + \"', '\" + \\\n",
    "                empreses[randint(0, numEmpreses - 1)] + \"')\" + (\",\" if i != numEsdeveniments else \";\") + \"\\n\")\n",
    "        \n",
    "with open(\"edicio/insert.sql\", \"w\") as f:\n",
    "    f.write(\"\\echo ---------- insert edicio\\n\")\n",
    "    f.write(\"INSERT INTO edicio VALUES \")\n",
    "    \n",
    "    for i in range(1, numEdicions + 1):\n",
    "        \n",
    "        e = randint(1, numEsdeveniments)\n",
    "        \n",
    "        if len(datesEdicions[e-1]) == 0:\n",
    "            dates = rdate()\n",
    "        else:\n",
    "            if esdevenimentPeriode[e - 1] == 'anual':\n",
    "                dates = incYear(datesEdicions[e-1][-1][0], 1)\n",
    "            else:\n",
    "                dates = incYear(datesEdicions[e-1][-1][0], 2)\n",
    "        \n",
    "        edicions[e - 1].append(dates[0])\n",
    "        datesEdicions[e - 1].append((dates[2], dates[3]))\n",
    "        \n",
    "        f.write(\"('\" + dates[0] + \"', '\" + dates[1] + \"', 0, 0, 'Esdeveniment \" + \\\n",
    "                str(e) + \"')\" + (\",\" if i != numEdicions else \";\") + \"\\n\")\n",
    "\n",
    "with open(\"estand/insert.sql\", \"w\") as f:\n",
    "    f.write(\"\\echo ---------- insert estand\\n\")\n",
    "    f.write(\"INSERT INTO estand VALUES \")\n",
    "    \n",
    "    for i in range(1, numEstands + 1):\n",
    "        estands[i - 1] = randint(1, numUbicacions)\n",
    "        \n",
    "        f.write(\"('Estand \" + str(i) + \"', \" + ('true' if randint(0, 1) else 'false') + \", \" + \\\n",
    "                str(randint(300, 1200)) + \", \" + str(randint(20, 50)) + \", \" + str(randint(20, 50)) + \\\n",
    "                \", 'Ubicacio \" + str(estands[i - 1]) + \"')\" + \\\n",
    "                (\",\" if i != numEstands else \";\") + \"\\n\")\n",
    "        \n",
    "    \n",
    "with open(\"entrada/insert.sql\", \"w\") as f:\n",
    "    f.write(\"\\echo ---------- insert entrada\\n\")\n",
    "    f.write(\"INSERT INTO entrada VALUES \")\n",
    "    \n",
    "    aux = 0\n",
    "    for esd in range(1, numEsdeveniments + 1):\n",
    "        for edi in range(1, len(edicions[esd-1]) + 1):\n",
    "    \n",
    "            for i in range(0, len(visitants)):\n",
    "                if randint(1, 9) % 4 != 0:\n",
    "                    ambEntrada[esd - 1][edi - 1].append(visitants[i])\n",
    "                    \n",
    "                    f.write((\"\" if aux == 0 else \",\\n\") + \"('Esdeveniment \" + str(esd) + \"', '\" + edicions[esd - 1][edi - 1] + \"', '\" + \\\n",
    "                        visitants[i] + \"','\"+ incRandom(datesEdicions[esd - 1][edi-1][0]) +\"' )\")\n",
    "\n",
    "                    aux += 1\n",
    "                    \n",
    "    f.write(\";\\n\")\n",
    "        \n",
    "with open(\"localitzada/insert.sql\", \"w\") as f:\n",
    "    f.write(\"\\echo ---------- insert localitzada\\n\")\n",
    "    f.write(\"INSERT INTO localitzada VALUES \")\n",
    "    \n",
    "    aux = 0\n",
    "    for esd in range(1, numEsdeveniments + 1):\n",
    "        for edi in range(1, len(edicions[esd-1]) + 1):\n",
    "    \n",
    "            num = randint(numEmpreses, numEstands)\n",
    "            ubi = range(1, numEstands + 1)\n",
    "            shuffle(ubi)\n",
    "            ubi = ubi[:num]\n",
    "            \n",
    "            estandsEdicio[esd - 1][edi - 1] = ubi[:]\n",
    "            ubicacions[esd - 1][edi - 1] = set([estands[i - 1] for i in ubi])\n",
    "            \n",
    "            for u in ubicacions[esd - 1][edi - 1]:\n",
    "                f.write((\"\" if aux == 0 else \",\\n\") + \"('Esdeveniment \" + str(esd) + \"', '\" + edicions[esd - 1][edi - 1] + \"', '\" + \\\n",
    "                            \"Ubicacio \" +  str(u) + \"')\")\n",
    "                \n",
    "                aux += 1\n",
    "                    \n",
    "    f.write(\";\\n\")\n",
    "\n",
    "with open(\"aten/insert.sql\", \"w\") as f:\n",
    "    with open(\"pertany/insert.sql\", \"w\") as fp:\n",
    "        f.write(\"\\echo ---------- insert aten\\n\")\n",
    "        f.write(\"INSERT INTO aten VALUES \")\n",
    "        \n",
    "        fp.write(\"\\echo ---------- insert pertany\\n\")\n",
    "        fp.write(\"INSERT INTO pertany VALUES \")\n",
    "        \n",
    "        aux = 0\n",
    "        aux2 = 0\n",
    "        for esd in range(1, numEsdeveniments + 1):\n",
    "            for edi in range(1, len(edicions[esd-1]) + 1):\n",
    "\n",
    "                empresaEstand = estandsEdicio[esd - 1][edi - 1][:]\n",
    "                shuffle(empresaEstand)\n",
    "\n",
    "                for emp in range(1, numEmpreses + 1):\n",
    "                    for tre in range(1, treballadors[emp - 1]):\n",
    "                        f.write((\"\" if aux == 0 else \",\\n\") + \"('Esdeveniment \" + str(esd) + \"', '\" + edicions[esd - 1][edi - 1] + \"', '\" + \\\n",
    "                                \"Estand \" + str(empresaEstand[emp - 1]) + \"', '\" + comercials[emp - 1][tre - 1] + \"')\")\n",
    "\n",
    "                        aux += 1\n",
    "\n",
    "                    fp.write((\"\" if aux2 == 0 else \",\\n\") + \"('Esdeveniment \" + str(esd) + \"', '\" + edicions[esd - 1][edi - 1] + \"', '\" + \\\n",
    "                                    \"Estand \" + str(empresaEstand[emp - 1]) + \"', '\" + empreses[emp - 1] + \"')\")\n",
    "                    aux2 += 1\n",
    "                  \n",
    "        fp.write(\";\\n\")  \n",
    "    f.write(\";\\n\")\n",
    "    \n",
    "    \n",
    "with open(\"reunio/insert.sql\", \"w\") as f:\n",
    "    f.write(\"\\echo ---------- insert reunio\\n\")\n",
    "    f.write(\"INSERT INTO reunio VALUES \")\n",
    "    \n",
    "    aux = 0\n",
    "    for emp in range(0, numEmpreses):\n",
    "        com = comercials[emp][:]\n",
    "        shuffle(com)\n",
    "        \n",
    "        total = {}\n",
    "        for c in com:\n",
    "            total[c] = visitants_atesos[emp][c]\n",
    "        \n",
    "        for esd in range(1, numEsdeveniments + 1):\n",
    "            for edi in range(1, len(edicions[esd-1]) + 1):\n",
    "                \n",
    "                for i in range(0, randint(0, len(com))):\n",
    "                    data = datesEdicions[esd - 1][edi -1][0]\n",
    "                    c = com[i]\n",
    "                    \n",
    "                    done = min(total[c], len(ambEntrada[esd - 1][edi - 1]))\n",
    "                    done = randint(0, done)\n",
    "                    total[c] -= done\n",
    "                    for j in range(0, done):\n",
    "                        p = ambEntrada[esd - 1][edi - 1][j]\n",
    "\n",
    "                        f.write((\"\" if aux == 0 else \",\\n\") + \"('\" + c + \"', '\" + p + \"', '\" + \\\n",
    "                                str(data[0]) + \"/\" + str(data[1]) + \"/\" + str(data[2]) + \"')\")\n",
    "\n",
    "                        aux += 1\n",
    "                        data = incDate(data)\n",
    "                    \n",
    "    f.write(\";\\n\")\n",
    "    "
   ]
  },
  {
   "cell_type": "code",
   "execution_count": 363,
   "metadata": {
    "collapsed": false
   },
   "outputs": [
    {
     "data": {
      "text/plain": [
       "{'1269634b': 12, '2225039l': 8, '2631526g': 11, '5054109c': 7, '6775763d': 8}"
      ]
     },
     "execution_count": 363,
     "metadata": {},
     "output_type": "execute_result"
    }
   ],
   "source": [
    "visitants_atesos[0]"
   ]
  },
  {
   "cell_type": "code",
   "execution_count": 1,
   "metadata": {
    "collapsed": false
   },
   "outputs": [
    {
     "data": {
      "text/plain": [
       "[2, 0, 0, 0, 0]"
      ]
     },
     "execution_count": 1,
     "metadata": {},
     "output_type": "execute_result"
    }
   ],
   "source": [
    "a = [0] * 5\n",
    "a[0] = 2\n",
    "a"
   ]
  },
  {
   "cell_type": "code",
   "execution_count": 22,
   "metadata": {
    "collapsed": false
   },
   "outputs": [
    {
     "ename": "NameError",
     "evalue": "name 'pertany' is not defined",
     "output_type": "error",
     "traceback": [
      "\u001b[1;31m---------------------------------------------------------------------------\u001b[0m",
      "\u001b[1;31mNameError\u001b[0m                                 Traceback (most recent call last)",
      "\u001b[1;32m<ipython-input-22-a63832b3caea>\u001b[0m in \u001b[0;36m<module>\u001b[1;34m()\u001b[0m\n\u001b[1;32m----> 1\u001b[1;33m \u001b[0mpertany\u001b[0m\u001b[1;33m\u001b[0m\u001b[0m\n\u001b[0m",
      "\u001b[1;31mNameError\u001b[0m: name 'pertany' is not defined"
     ]
    }
   ],
   "source": [
    "pertany"
   ]
  },
  {
   "cell_type": "code",
   "execution_count": null,
   "metadata": {
    "collapsed": true
   },
   "outputs": [],
   "source": []
  }
 ],
 "metadata": {
  "kernelspec": {
   "display_name": "Python 2",
   "language": "python",
   "name": "python2"
  },
  "language_info": {
   "codemirror_mode": {
    "name": "ipython",
    "version": 2
   },
   "file_extension": ".py",
   "mimetype": "text/x-python",
   "name": "python",
   "nbconvert_exporter": "python",
   "pygments_lexer": "ipython2",
   "version": "2.7.9"
  }
 },
 "nbformat": 4,
 "nbformat_minor": 0
}
